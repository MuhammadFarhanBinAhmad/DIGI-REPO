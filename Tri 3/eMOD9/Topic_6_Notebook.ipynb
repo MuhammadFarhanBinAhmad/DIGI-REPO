{
  "nbformat": 4,
  "nbformat_minor": 0,
  "metadata": {
    "colab": {
      "name": "Topic_6_Notebook(new).ipynb",
      "provenance": [],
      "collapsed_sections": []
    },
    "kernelspec": {
      "name": "python3",
      "display_name": "Python 3"
    },
    "language_info": {
      "name": "python"
    }
  },
  "cells": [
    {
      "cell_type": "markdown",
      "metadata": {
        "id": "yOZvKD1pQvja"
      },
      "source": [
        "# Welcome to Topic 6's Notebook!\n",
        "\n",
        "Use this notebook as you go through Topic 6's slides.\n"
      ]
    },
    {
      "cell_type": "markdown",
      "metadata": {
        "id": "bysXT1iqZbCw"
      },
      "source": [
        "Slide 10 - **Code Cells**"
      ]
    },
    {
      "cell_type": "code",
      "metadata": {
        "id": "16ms1quZQG8V"
      },
      "source": [
        "print('Hello')"
      ],
      "execution_count": null,
      "outputs": []
    },
    {
      "cell_type": "markdown",
      "metadata": {
        "id": "iH6o5OKxZgaj"
      },
      "source": [
        "Slide 14 - **Uploading a File using Google Colab's Upload file library**"
      ]
    },
    {
      "cell_type": "code",
      "metadata": {
        "id": "WW40y-R6QfVO"
      },
      "source": [
        "from google.colab import files\n",
        "files.upload()"
      ],
      "execution_count": null,
      "outputs": []
    },
    {
      "cell_type": "markdown",
      "metadata": {
        "id": "as0QodJAZmra"
      },
      "source": [
        "Slide 16 - **Downloading a File using Google Colab's Upload file library**\n",
        "\n"
      ]
    },
    {
      "cell_type": "code",
      "metadata": {
        "id": "SWU43c7nQppk"
      },
      "source": [
        "from google.colab import files\n",
        "files.download('type name of file here')"
      ],
      "execution_count": null,
      "outputs": []
    },
    {
      "cell_type": "markdown",
      "metadata": {
        "id": "u4eDz6k8Ztta"
      },
      "source": [
        "Slide 19 - **Comments**\n"
      ]
    },
    {
      "cell_type": "code",
      "metadata": {
        "id": "xZzu6vpTS0J1"
      },
      "source": [
        "# This is a Single-line comment\n",
        "'''\n",
        "This is a multi-line comments\n",
        "'''\n",
        "print('Hello World') # Comments can also be written like this"
      ],
      "execution_count": null,
      "outputs": []
    },
    {
      "cell_type": "markdown",
      "metadata": {
        "id": "w671d8HBZycD"
      },
      "source": [
        "Slide 19 - **Variables**"
      ]
    },
    {
      "cell_type": "code",
      "metadata": {
        "id": "tWmDqjvPxzLH"
      },
      "source": [
        "quantity = 10     # 'quantity' is now a integer variable holding 10\n",
        "fruit = 'apple'   # 'fruit' is now a string variable holding 'apple'\n",
        "price = 3.5       # 'price' is now a float variable holding 3.5"
      ],
      "execution_count": null,
      "outputs": []
    },
    {
      "cell_type": "code",
      "metadata": {
        "id": "kHpVzkqmvkWD"
      },
      "source": [
        "fruit = 'apple'   # 'fruit' is now a string variable holding 'apple'\n",
        "Fruit = 'orange'   # 'Fruit' is now a string variable holding 'orange'\n",
        "FRUIT = 'pear'   # 'FRUIT' is now a string variable holding 'pear'\n",
        "\n",
        "# We can use print() to display each variable's value\n",
        "print(fruit, Fruit, FRUIT)"
      ],
      "execution_count": null,
      "outputs": []
    },
    {
      "cell_type": "code",
      "metadata": {
        "id": "Z5llPQBjzVw0"
      },
      "source": [
        "fruit = 'apple'   # 'fruit' is now a string variable holding 'apple'\n",
        "print(fruit)      # display current value of 'fruit'\n",
        "\n",
        "fruit = 'mango'   # 'fruit' is now a string variable holding 'mango'\n",
        "print(fruit)      # display current value of 'fruit'"
      ],
      "execution_count": null,
      "outputs": []
    },
    {
      "cell_type": "markdown",
      "metadata": {
        "id": "OLz8cHH7Z17E"
      },
      "source": [
        "Slide 20 - **Type Casting**"
      ]
    },
    {
      "cell_type": "code",
      "metadata": {
        "id": "wZd97OIjTUA_"
      },
      "source": [
        "x = str(100)      # x now holds the string '100'\n",
        "y = int(100)      # y now holds the integer 100\n",
        "z = float(100)    # z now holds the float 100.0\n",
        "\n",
        "print(\"x is\", x)              # display value of x\n",
        "print(\"x's type is\", type(x)) # display type of x\n",
        "print(\"y is\", y)              # display value of y\n",
        "print(\"y's type is\", type(y)) # display type of y\n",
        "print(\"z is\", z)              # display value of z\n",
        "print(\"z's type is\", type(z)) # display type of z"
      ],
      "execution_count": null,
      "outputs": []
    },
    {
      "cell_type": "markdown",
      "metadata": {
        "id": "FHob-x-GZ6bQ"
      },
      "source": [
        "Slide 22 - **Operators - Assignment**"
      ]
    },
    {
      "cell_type": "code",
      "metadata": {
        "id": "DwF3guWxUVEL"
      },
      "source": [
        "x = 5     # Assigning integer 5 to 'x' variable\n",
        "print(x)  # Display value in variable 'x'"
      ],
      "execution_count": null,
      "outputs": []
    },
    {
      "cell_type": "code",
      "metadata": {
        "id": "4i0IG81NUxSh"
      },
      "source": [
        "y = 6 * 9   # Assigning the result of '6 * 9' to 'y' variable\n",
        "print(y)    # Display value in variable 'y'"
      ],
      "execution_count": null,
      "outputs": []
    },
    {
      "cell_type": "code",
      "metadata": {
        "id": "1n7yM7V-U3Qp"
      },
      "source": [
        "x = 5       # Assigning integer 5 to 'x' variable\n",
        "x = x + 3   # Incrementing x by 3\n",
        "print(x)    # Display value in variable 'x'"
      ],
      "execution_count": null,
      "outputs": []
    },
    {
      "cell_type": "code",
      "metadata": {
        "id": "GdcHFUDSU65A"
      },
      "source": [
        "x = 5       # Assigning integer 5 to 'x' variable\n",
        "x += 3      # Incrementing x by 3 (shorter method)\n",
        "print(x)    # Display value in variable 'x'"
      ],
      "execution_count": null,
      "outputs": []
    },
    {
      "cell_type": "code",
      "metadata": {
        "id": "bE87sV8l5Sxj"
      },
      "source": [
        "x = 5       # Assigning integer 5 to 'x' variable\n",
        "x = x - 3   # Decrementing x by 3\n",
        "print(x)    # Display value in variable 'x'"
      ],
      "execution_count": null,
      "outputs": []
    },
    {
      "cell_type": "code",
      "metadata": {
        "id": "RoQoZDs05Sxn"
      },
      "source": [
        "x = 5       # Assigning integer 5 to 'x' variable\n",
        "x -= 3      # Decrementing x by 3 (shorter method)\n",
        "print(x)    # Display value in variable 'x'"
      ],
      "execution_count": null,
      "outputs": []
    },
    {
      "cell_type": "code",
      "metadata": {
        "id": "a2QFqdvm5TAF"
      },
      "source": [
        "x = 5       # Assigning integer 5 to 'x' variable\n",
        "x = x * 3   # Multiplying x by 3\n",
        "print(x)    # Display value in variable 'x'"
      ],
      "execution_count": null,
      "outputs": []
    },
    {
      "cell_type": "code",
      "metadata": {
        "id": "je_nspo55TAG"
      },
      "source": [
        "x = 5       # Assigning integer 5 to 'x' variable\n",
        "x *= 3      # Multiplying x by 3 (shorter method)\n",
        "print(x)    # Display value in variable 'x'"
      ],
      "execution_count": null,
      "outputs": []
    },
    {
      "cell_type": "code",
      "metadata": {
        "id": "gR82OWgk5ifL"
      },
      "source": [
        "x = 5       # Assigning integer 5 to 'x' variable\n",
        "x = x / 3   # Dividing x by 3\n",
        "print(x)    # Display value in variable 'x'"
      ],
      "execution_count": null,
      "outputs": []
    },
    {
      "cell_type": "code",
      "metadata": {
        "id": "zgTObM8k5ifN"
      },
      "source": [
        "x = 5       # Assigning integer 5 to 'x' variable\n",
        "x /= 3      # Dividing x by 3 (shorter method)\n",
        "print(x)    # Display value in variable 'x'"
      ],
      "execution_count": null,
      "outputs": []
    },
    {
      "cell_type": "markdown",
      "metadata": {
        "id": "dIK23azhaAc5"
      },
      "source": [
        "Slide 23 - **Operators - Arithmetic**\n",
        "\n"
      ]
    },
    {
      "cell_type": "code",
      "metadata": {
        "id": "iMpZ6pbNVM7G"
      },
      "source": [
        "x = 10\n",
        "y = 3\n",
        "\n",
        "print('Addition:', x, '+', y, '=', x + y)\n",
        "print('Subtraction:', x, '-', y, '=', x - y)\n",
        "print('Multiplication:', x, '*', y, '=', x * y)\n",
        "print('Division:', x, '/', y, '=', x / y)"
      ],
      "execution_count": null,
      "outputs": []
    },
    {
      "cell_type": "code",
      "metadata": {
        "id": "HPqzKn1E6Ut9"
      },
      "source": [
        "x = 10\n",
        "y = 3\n",
        "\n",
        "print('Modulus(Remainder):', x, '%', y, '=', x % y)\n",
        "print('Exponentiation(Power):', x, '**', y, '=', x ** y)\n",
        "print('Floor Division(Quotient):', x, '//', y, '=', x // y)"
      ],
      "execution_count": null,
      "outputs": []
    },
    {
      "cell_type": "markdown",
      "metadata": {
        "id": "Mt-JRRE5aH8i"
      },
      "source": [
        "Slide 24 - **Operators - Comparison**"
      ]
    },
    {
      "cell_type": "code",
      "metadata": {
        "id": "crtRnM5dVzIt"
      },
      "source": [
        "x = 5\n",
        "y = 10"
      ],
      "execution_count": null,
      "outputs": []
    },
    {
      "cell_type": "code",
      "metadata": {
        "id": "tsgT03Zw7sFW"
      },
      "source": [
        "print('Are x(5) and y(10) Equal:', x == y)"
      ],
      "execution_count": null,
      "outputs": []
    },
    {
      "cell_type": "code",
      "metadata": {
        "id": "QRXpblyV7sMQ"
      },
      "source": [
        "print('Are x(5) and y(10) not Equal:', x != y)"
      ],
      "execution_count": null,
      "outputs": []
    },
    {
      "cell_type": "code",
      "metadata": {
        "id": "MC30b_-Z7sSj"
      },
      "source": [
        "print('Is x(5) greater than y(10):', x > y)"
      ],
      "execution_count": null,
      "outputs": []
    },
    {
      "cell_type": "code",
      "metadata": {
        "id": "PzzuvWrG7sfT"
      },
      "source": [
        "print('Is x(5) greater than or equal to y(10):', x >= y)"
      ],
      "execution_count": null,
      "outputs": []
    },
    {
      "cell_type": "code",
      "metadata": {
        "id": "xBwd3Nji7sZI"
      },
      "source": [
        "print('Is x(5) less than y(10):', x < y)"
      ],
      "execution_count": null,
      "outputs": []
    },
    {
      "cell_type": "code",
      "metadata": {
        "id": "M_wwVLLP79uq"
      },
      "source": [
        "print('Is x(5) less than or equal to y(10):', x <= y)"
      ],
      "execution_count": null,
      "outputs": []
    },
    {
      "cell_type": "markdown",
      "metadata": {
        "id": "1rLwg0GCXyge"
      },
      "source": [
        "Slide 25 - **Operators - Logical**"
      ]
    },
    {
      "cell_type": "code",
      "metadata": {
        "id": "9CJSztvRXG-x"
      },
      "source": [
        "x = 3"
      ],
      "execution_count": null,
      "outputs": []
    },
    {
      "cell_type": "code",
      "metadata": {
        "id": "06HDy7VS8qUI"
      },
      "source": [
        "print('is x smaller than 6 and 9', x < 6 and x < 9)"
      ],
      "execution_count": null,
      "outputs": []
    },
    {
      "cell_type": "code",
      "metadata": {
        "id": "z-1oZsvQ8qZr"
      },
      "source": [
        "print('is x greater than 6 or smaller than 9: ', x > 6 or x < 9)"
      ],
      "execution_count": null,
      "outputs": []
    },
    {
      "cell_type": "code",
      "metadata": {
        "id": "TVpxW3Tv8rBM"
      },
      "source": [
        "print('is x not greater than 6: ', not(x > 6))"
      ],
      "execution_count": null,
      "outputs": []
    }
  ]
}