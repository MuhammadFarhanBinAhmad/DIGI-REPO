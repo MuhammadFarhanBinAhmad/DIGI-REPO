{
  "nbformat": 4,
  "nbformat_minor": 0,
  "metadata": {
    "colab": {
      "name": "Topic 9 Notebook.ipynb",
      "provenance": [],
      "collapsed_sections": []
    },
    "kernelspec": {
      "name": "python3",
      "display_name": "Python 3"
    },
    "language_info": {
      "name": "python"
    }
  },
  "cells": [
    {
      "cell_type": "markdown",
      "metadata": {
        "id": "gSdWIPkirOxR"
      },
      "source": [
        "# Welcome to Topic 9's Notebook!\n",
        "\n",
        "Use this notebook as you go through Topic 9's slides.\n"
      ]
    },
    {
      "cell_type": "markdown",
      "metadata": {
        "id": "VFkUnSmL-K5Y"
      },
      "source": [
        "**Upload** the following files to the **Files tab** on the left:\n",
        "\n",
        "1. Foods.csv\n",
        "2. Expenditure.csv\n",
        "3. Customer Waiting Time.csv\n",
        "4. AmesHousing.csv\n",
        "\n"
      ]
    },
    {
      "cell_type": "markdown",
      "metadata": {
        "id": "LO6Voacm-gPe"
      },
      "source": [
        "**Slide 8:**\n",
        "Run the Code cell below and the next one before moving on to the next slide"
      ]
    },
    {
      "cell_type": "code",
      "metadata": {
        "id": "xo353Svv6lqQ"
      },
      "source": [
        "# Libraries that we will be using in this notebook\n",
        "import pandas as pd\n",
        "import matplotlib.pyplot as plt"
      ],
      "execution_count": null,
      "outputs": []
    },
    {
      "cell_type": "code",
      "metadata": {
        "id": "B821T8Qcd7eQ"
      },
      "source": [
        "# .csv files that we will be using to generate charts\n",
        "df_foods = pd.read_csv('Foods.csv')\n",
        "df_expenditure = pd.read_csv('Expenditure.csv')\n",
        "df_waittime = pd.read_csv('Customer_Waiting_Time.csv')\n",
        "df_housing = pd.read_csv('Ames_Housing.csv')"
      ],
      "execution_count": null,
      "outputs": []
    },
    {
      "cell_type": "markdown",
      "metadata": {
        "id": "sGH7AdYN-113"
      },
      "source": [
        "Slide 10 - **Pie Chart**\n",
        "\n",
        "*df_foods*: Contains data in Foods.csv"
      ]
    },
    {
      "cell_type": "code",
      "metadata": {
        "id": "u_k9As8IKMUe"
      },
      "source": [
        "food = df_foods[\"Food\"]                           # Store DataFrame data from column \"Food\" in variable 'food'\n",
        "price = df_foods[\"Price\"]                         # Store DataFrame data from column \"Price\" in variable 'price'\n",
        "\n",
        "plt.pie(price, labels = food, autopct='%1.1f%%')  # Initialise type of chart, pie chart 'pie' with values from variable 'price' and data from variable 'food' as labels with specified percentage format '%1.1f%%'\n",
        "plt.show()                                        # Shows the plot/graph"
      ],
      "execution_count": null,
      "outputs": []
    },
    {
      "cell_type": "markdown",
      "metadata": {
        "id": "aRwSJfHx-7IP"
      },
      "source": [
        "Slide 11 - **Bar Chart**\n",
        "\n",
        "*df_expenditure*: Contains data in Expenditure.csv"
      ]
    },
    {
      "cell_type": "code",
      "metadata": {
        "id": "pldwio-W8jBL"
      },
      "source": [
        "month = df_expenditure[\"Month\"]                   # Store DataFrame data from column \"Month\" in variable 'month'\n",
        "spent = df_expenditure[\"Total Spending\"]          # Store DataFrame data from column \"Total Spending\" in variable 'spent'\n",
        "\n",
        "plt.title(\"Monthly Expenditure\")                  # Initialise the chart's Title\n",
        "plt.xlabel(\"Month\")                               # Initialise the chart's Label at the X axis\n",
        "plt.ylabel(\"Total Spending\")                      # Initialise the chart's Label at the Y axis\n",
        "\n",
        "plt.bar(month, spent, color = \"#4CAF50\")          # Initialise type of chart, bar chart 'bar' with values from variables 'month' and 'spent' with specified bar color \"#4CAF50\"\n",
        "plt.show()                                        # Shows the plot/graph"
      ],
      "execution_count": null,
      "outputs": []
    },
    {
      "cell_type": "markdown",
      "metadata": {
        "id": "3NVqUoQX-_rO"
      },
      "source": [
        "Slide 12 - **Line Chart**\n",
        "\n",
        "*df_expenditure*: Contains data in Expenditure.csv"
      ]
    },
    {
      "cell_type": "code",
      "metadata": {
        "id": "_M0Ozu49efyK"
      },
      "source": [
        "month = df_expenditure[\"Month\"]                   # Store DataFrame data from column \"Month\" in variable 'month'\n",
        "spent = df_expenditure[\"Total Spending\"]          # Store DataFrame data from column \"Total Spending\" in variable 'spent'\n",
        "\n",
        "plt.title(\"Results\")                              # Initialise the chart's Title\n",
        "plt.xlabel(\"Month\")                               # Initialise the chart's Label at the X axis\n",
        "plt.ylabel(\"Amount Spent\")                        # Initialise the chart's Label at the Y axis\n",
        "\n",
        "plt.plot(month, spent)                            # Initialise type of chart, which is Matplotlib's default chart, Line chart 'line' with values from variables 'month' and 'spent'\n",
        "plt.show()                                        # Shows the plot/graph"
      ],
      "execution_count": null,
      "outputs": []
    },
    {
      "cell_type": "markdown",
      "metadata": {
        "id": "TlbMJLjw_BkP"
      },
      "source": [
        "Slide 14 - **Histogram Chart**\n",
        "\n",
        "*df_waittime*: Contains data in Customer_Waiting_Time.csv"
      ]
    },
    {
      "cell_type": "code",
      "metadata": {
        "id": "TJ-Vn3-ieiZg"
      },
      "source": [
        "times = df_waittime[\"Wait Time\"]                  # Store DataFrame data from column \"Wait Time\" in variable 'times'\n",
        "\n",
        "plt.title(\"Results\")                              # Initialise the chart's Title\n",
        "plt.xlabel(\"Waiting Time in Mins\")                # Initialise the chart's Label at the X axis\n",
        "plt.ylabel(\"Customers\")                           # Initialise the chart's Label at the Y axis\n",
        "\n",
        "plt.hist(times, bins=9, ec='black')               # Initialise type of chart, histogram chart 'hist' with values from variables 'times' and interval value of 9 with specified edge color 'black'\n",
        "plt.show()                                        # Shows the plot/graph"
      ],
      "execution_count": null,
      "outputs": []
    },
    {
      "cell_type": "markdown",
      "metadata": {
        "id": "fi0l9PR0_Fle"
      },
      "source": [
        "Slide 15 - **Scatterplot Chart**\n",
        "\n",
        "*df_waittime*: Contains data in Customer_Waiting_Time.csv"
      ]
    },
    {
      "cell_type": "code",
      "metadata": {
        "id": "9uYyIS-Bek3R"
      },
      "source": [
        "customer = df_waittime[\"Customer\"]                # Store DataFrame data from column \"Customer\" in variable 'customer'\n",
        "times = df_waittime[\"Wait Time\"]                  # Store DataFrame data from column \"Wait Time\" in variable 'times'\n",
        "\n",
        "plt.title(\"Results\")                              # Initialise the chart's Title\n",
        "plt.xlabel(\"Customers\")                           # Initialise the chart's Label at the X axis\n",
        "plt.ylabel(\"Waiting Time in Mins\")                # Initialise the chart's Label at the Y axis\n",
        "\n",
        "plt.scatter(customer, times)                      # Initialise type of chart, scatterplot chart 'scatter' with values from variables 'customer' and 'times'\n",
        "plt.show()                                        # Shows the plot/graph"
      ],
      "execution_count": null,
      "outputs": []
    },
    {
      "cell_type": "markdown",
      "metadata": {
        "id": "mu4BwMeU_MhO"
      },
      "source": [
        "Slide 16 - **Correlation Example**\n",
        "\n",
        "*df_housing*: Contains data in Ames_Housing.csv"
      ]
    },
    {
      "cell_type": "code",
      "metadata": {
        "id": "W5xuze-KenGr"
      },
      "source": [
        "area = df_housing[\"Gr Liv Area\"]                  # Store DataFrame data from column \"Gr Liv Area\" in variable 'area'\n",
        "price = df_housing[\"SalePrice\"]                   # Store DataFrame data from column \"SalePrice\" in variable 'price'\n",
        "\n",
        "plt.title(\"Results\")                              # Initialise the chart's Title\n",
        "plt.xlabel(\"Living Area Above Ground\")            # Initialise the chart's Label at the X axis\n",
        "plt.ylabel(\"House Price\")                         # Initialise the chart's Label at the Y axis\n",
        "\n",
        "plt.scatter(price, area)                          # Initialise type of chart, scatterplot chart 'scatter' with values from variables 'price' and 'area'\n",
        "plt.show()                                        # Shows the plot/graph"
      ],
      "execution_count": null,
      "outputs": []
    }
  ]
}