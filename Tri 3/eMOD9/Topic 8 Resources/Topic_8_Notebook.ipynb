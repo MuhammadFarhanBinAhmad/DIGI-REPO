{
  "nbformat": 4,
  "nbformat_minor": 0,
  "metadata": {
    "colab": {
      "name": "Topic_8_Notebook1.ipynb",
      "provenance": [],
      "collapsed_sections": []
    },
    "kernelspec": {
      "name": "python3",
      "display_name": "Python 3"
    },
    "language_info": {
      "name": "python"
    }
  },
  "cells": [
    {
      "cell_type": "markdown",
      "metadata": {
        "id": "yOZvKD1pQvja"
      },
      "source": [
        "# Welcome to Topic 8's Notebook!\n",
        "\n",
        "Use this notebook as you go through Topic 8's slides.\n"
      ]
    },
    {
      "cell_type": "markdown",
      "metadata": {
        "id": "bysXT1iqZbCw"
      },
      "source": [
        "**Importing the Pandas Library**"
      ]
    },
    {
      "cell_type": "code",
      "metadata": {
        "id": "16ms1quZQG8V"
      },
      "source": [
        "import pandas as pd"
      ],
      "execution_count": null,
      "outputs": []
    },
    {
      "cell_type": "markdown",
      "metadata": {
        "id": "iH6o5OKxZgaj"
      },
      "source": [
        "Slide 7 - **Upload the downloaded files**\n",
        "( Students.csv, Students.xlsx, Students.json )"
      ]
    },
    {
      "cell_type": "code",
      "metadata": {
        "id": "6WyJin2bJgly"
      },
      "source": [
        "from google.colab import files\n",
        "files.upload()"
      ],
      "execution_count": null,
      "outputs": []
    },
    {
      "cell_type": "markdown",
      "metadata": {
        "id": "mVrSinVFV4v-"
      },
      "source": [
        "Slide 8 - **Importing Required CSV files**\n",
        "\n"
      ]
    },
    {
      "cell_type": "code",
      "metadata": {
        "id": "24Lr9IGTV4qN"
      },
      "source": [
        "# importing 'Students.csv' and store as dataframe, df1\n",
        "df1 = pd.read_csv('Students.csv')\n",
        "# display contents of dataframe, df1\n",
        "print(df1)"
      ],
      "execution_count": null,
      "outputs": []
    },
    {
      "cell_type": "code",
      "metadata": {
        "id": "WYLaIDwsW1an"
      },
      "source": [
        "# importing 'New_Students.csv' and store as dataframe, df2\n",
        "df2 = pd.read_csv('New_Students.csv')\n",
        "# display contents of dataframe, df2\n",
        "print(df2)"
      ],
      "execution_count": null,
      "outputs": []
    },
    {
      "cell_type": "code",
      "metadata": {
        "id": "pX9FlcY2npRM"
      },
      "source": [
        "# importing 'Vaxed_Students.csv' and store as dataframe, df3\n",
        "df3 = pd.read_csv('Vaxed_Students.csv')\n",
        "# display contents of dataframe, df3\n",
        "print(df3)"
      ],
      "execution_count": null,
      "outputs": []
    },
    {
      "cell_type": "code",
      "metadata": {
        "id": "Ve0DAppe8ixg"
      },
      "source": [
        "# importing 'Gender_Students.csv' and store as dataframe, df4\n",
        "df4 = pd.read_csv('Gender_Students.csv')\n",
        "# display contents of dataframe, df4\n",
        "print(df4)"
      ],
      "execution_count": null,
      "outputs": []
    },
    {
      "cell_type": "markdown",
      "metadata": {
        "id": "WORzpJc1Klzr"
      },
      "source": [
        "Slide 9 - **dtypes**"
      ]
    },
    {
      "cell_type": "code",
      "metadata": {
        "id": "unWBSvM9Ko3H"
      },
      "source": [
        "df1.dtypes"
      ],
      "execution_count": null,
      "outputs": []
    },
    {
      "cell_type": "markdown",
      "metadata": {
        "id": "-qMjyzvEAHhU"
      },
      "source": [
        "Slide 10 - **Info()**"
      ]
    },
    {
      "cell_type": "code",
      "metadata": {
        "id": "jWPr2VuXAHhV"
      },
      "source": [
        "df1.info()"
      ],
      "execution_count": null,
      "outputs": []
    },
    {
      "cell_type": "markdown",
      "metadata": {
        "id": "EPSlbfkpP_x8"
      },
      "source": [
        "Slide 13 - **Why transform Data?**"
      ]
    },
    {
      "cell_type": "code",
      "metadata": {
        "id": "IgrQgmteP_x-"
      },
      "source": [
        "# Summary of statistical calculations of numeric data\n",
        "# in Students DataFrame\n",
        "df1.describe(include='all')"
      ],
      "execution_count": null,
      "outputs": []
    },
    {
      "cell_type": "markdown",
      "metadata": {
        "id": "Cs_rUgNhKoTp"
      },
      "source": [
        "Slide 13 - **astype()**"
      ]
    },
    {
      "cell_type": "code",
      "metadata": {
        "id": "8wT7uBloKoTs"
      },
      "source": [
        "# Preview of 'Student ID' column and it's values' dtypes\n",
        "df1['Student ID'].head()"
      ],
      "execution_count": null,
      "outputs": []
    },
    {
      "cell_type": "code",
      "metadata": {
        "id": "CYJsqn5bLloN"
      },
      "source": [
        "# Forcing a conversion of all values under 'Student ID' column to object dtype\n",
        "df1['Student ID'] = df1['Student ID'].astype('object')\n",
        "\n",
        "# Preview of the changed 'Student ID' column and it's values' dtypes\n",
        "df1['Student ID'].head()"
      ],
      "execution_count": null,
      "outputs": []
    },
    {
      "cell_type": "code",
      "metadata": {
        "id": "2FsO4iFuQUhx"
      },
      "source": [
        "# Summary of statistical calculations of numeric data \n",
        "# in transformed Students DataFrame\n",
        "df1.describe(include='all')"
      ],
      "execution_count": null,
      "outputs": []
    },
    {
      "cell_type": "markdown",
      "metadata": {
        "id": "-2-_14cYZkkH"
      },
      "source": [
        "Slide 20 - **Data Frames in use**\n",
        "\n"
      ]
    },
    {
      "cell_type": "code",
      "metadata": {
        "id": "ukt34KQBUWZs"
      },
      "source": [
        "# Show preview of 'df1'\n",
        "df1.head()"
      ],
      "execution_count": null,
      "outputs": []
    },
    {
      "cell_type": "code",
      "metadata": {
        "id": "omy3aBz8Uwu9"
      },
      "source": [
        "# show rows/columns of 'df1'\n",
        "df1.shape"
      ],
      "execution_count": null,
      "outputs": []
    },
    {
      "cell_type": "code",
      "metadata": {
        "id": "Ojdtdrw3U5_G"
      },
      "source": [
        "# Show preview of 'df2'\n",
        "df2.head()"
      ],
      "execution_count": null,
      "outputs": []
    },
    {
      "cell_type": "code",
      "metadata": {
        "id": "mcai_juSU5_G"
      },
      "source": [
        "# show rows/columns of 'df2'\n",
        "df2.shape"
      ],
      "execution_count": null,
      "outputs": []
    },
    {
      "cell_type": "code",
      "metadata": {
        "id": "Qy75Q8g5U7Gv"
      },
      "source": [
        "# Show preview of 'df3'\n",
        "df3.head()"
      ],
      "execution_count": null,
      "outputs": []
    },
    {
      "cell_type": "code",
      "metadata": {
        "id": "jUnIcwxyU7Gv"
      },
      "source": [
        "# show rows/columns of 'df3'\n",
        "df3.shape"
      ],
      "execution_count": null,
      "outputs": []
    },
    {
      "cell_type": "code",
      "metadata": {
        "id": "sSjrV9PTU6sq"
      },
      "source": [
        "# Show preview of 'df4'\n",
        "df4.head()"
      ],
      "execution_count": null,
      "outputs": []
    },
    {
      "cell_type": "code",
      "metadata": {
        "id": "8OJ0QPk3U6sr"
      },
      "source": [
        "# show rows/columns of 'df4'\n",
        "df4.shape"
      ],
      "execution_count": null,
      "outputs": []
    },
    {
      "cell_type": "markdown",
      "metadata": {
        "id": "MXMJ_CoeUWZh"
      },
      "source": [
        "Slide 21 - **Full Outer Join/Appending**\n",
        "\n"
      ]
    },
    {
      "cell_type": "code",
      "metadata": {
        "id": "2igzBwW7W5zZ"
      },
      "source": [
        "# Outer merge of df1 and df2 to create df_outer\n",
        "df_outer = pd.merge(df1, df2, how= 'outer')\n",
        "# Show preview of 'df_outer'\n",
        "df_outer.head()"
      ],
      "execution_count": null,
      "outputs": []
    },
    {
      "cell_type": "code",
      "metadata": {
        "id": "TygIo0JFbsex"
      },
      "source": [
        "# Show rows/columns of 'df_outer'\n",
        "df_outer.shape"
      ],
      "execution_count": null,
      "outputs": []
    },
    {
      "cell_type": "code",
      "metadata": {
        "id": "fYz7fTS-WZEY"
      },
      "source": [
        "print('df1, Left Dataframe (Row/Col):', df1.shape)\n",
        "print('df2, Right Dataframe (Row/Col):', df2.shape)\n",
        "print('df_outer, Merged Dataframe (Row/Col):', df_outer.shape)"
      ],
      "execution_count": null,
      "outputs": []
    },
    {
      "cell_type": "markdown",
      "metadata": {
        "id": "4iZVHgPvZmPP"
      },
      "source": [
        "Slide 37 - **Inner Join/Merge**\n",
        "\n"
      ]
    },
    {
      "cell_type": "code",
      "metadata": {
        "id": "i5ZEatwrsK5_"
      },
      "source": [
        "# Inner merge of df_outer and df3 to create df_inner\n",
        "df_inner = pd.merge(df_outer, df3)\n",
        "# Show preview of 'df_inner'\n",
        "df_inner.head()"
      ],
      "execution_count": null,
      "outputs": []
    },
    {
      "cell_type": "code",
      "metadata": {
        "id": "Sfmw7C2-l8XM"
      },
      "source": [
        "# Show rows/columns of 'df_inner'\n",
        "df_inner.shape"
      ],
      "execution_count": null,
      "outputs": []
    },
    {
      "cell_type": "code",
      "metadata": {
        "id": "1X6xlYCZmtGQ"
      },
      "source": [
        "print('df_outer, Left Dataframe (Row/Col):', df_outer.shape)\n",
        "print('df3, Right Dataframe (Row/Col):', df3.shape)\n",
        "print('df_inner, Merged Dataframe (Row/Col):', df_inner.shape)"
      ],
      "execution_count": null,
      "outputs": []
    },
    {
      "cell_type": "markdown",
      "metadata": {
        "id": "QwocvlzDZmS0"
      },
      "source": [
        "Slide 40 - **Left Outer Join**\n",
        "\n"
      ]
    },
    {
      "cell_type": "code",
      "metadata": {
        "id": "3NmFnjYZ7Gwy"
      },
      "source": [
        "# Left outer merge of df4 and df_inner to create df_left1\n",
        "df_left1 = pd.merge(df4, df_inner, how='left')\n",
        "# Show preview of 'df_left1'\n",
        "print(df_left1)"
      ],
      "execution_count": null,
      "outputs": []
    },
    {
      "cell_type": "code",
      "metadata": {
        "id": "qgYd5Tahpzl4"
      },
      "source": [
        "print('df4, Left Dataframe (Row/Col):', df4.shape)\n",
        "print('df_inner, Right Dataframe (Row/Col):', df_inner.shape)\n",
        "print('df_left1, Merged Dataframe (Row/Col):', df_left1.shape)"
      ],
      "execution_count": null,
      "outputs": []
    },
    {
      "cell_type": "code",
      "metadata": {
        "id": "Vbe8OadqCe_6"
      },
      "source": [
        "# Left outer merge of df_inner and df4 to create df_left2\n",
        "df_left2 = pd.merge(df_inner, df4, how='left')\n",
        "# Show preview of 'df_left2'\n",
        "print(df_left2)"
      ],
      "execution_count": null,
      "outputs": []
    },
    {
      "cell_type": "code",
      "metadata": {
        "id": "Ma4QTsNJvgOU"
      },
      "source": [
        "print('df_inner, Left Dataframe (Row/Col):', df_inner.shape)\n",
        "print('df4, Right Dataframe (Row/Col):', df4.shape)\n",
        "print('df_left2, Merged Dataframe (Row/Col):', df_left2.shape)"
      ],
      "execution_count": null,
      "outputs": []
    },
    {
      "cell_type": "markdown",
      "metadata": {
        "id": "I7ndq8P7ZmWC"
      },
      "source": [
        "Slide 41 - **Right Outer Join**\n",
        "\n"
      ]
    },
    {
      "cell_type": "code",
      "metadata": {
        "id": "RoJpR7DuDLXc"
      },
      "source": [
        "# Right outer merge of df4 and df_inner to create df_right1\n",
        "df_right1 = pd.merge(df4, df_inner, how='right')\n",
        "# Show preview of 'df_right1'\n",
        "print(df_right1)"
      ],
      "execution_count": null,
      "outputs": []
    },
    {
      "cell_type": "code",
      "metadata": {
        "id": "zm69a7TOzCVn"
      },
      "source": [
        "print('df4, Left Dataframe (Row/Col):', df4.shape)\n",
        "print('df_inner, Right Dataframe (Row/Col):', df_inner.shape)\n",
        "print('df_right1, Merged Dataframe (Row/Col):', df_right1.shape)"
      ],
      "execution_count": null,
      "outputs": []
    },
    {
      "cell_type": "code",
      "metadata": {
        "id": "xdHdWsk8DRzJ"
      },
      "source": [
        "# Right outer merge of df_inner and df4 to create df_right2\n",
        "df_right2 = pd.merge(df_inner, df4, how='right')\n",
        "# Show preview of 'df_right2'\n",
        "print(df_right2)"
      ],
      "execution_count": null,
      "outputs": []
    },
    {
      "cell_type": "code",
      "metadata": {
        "id": "mjNSu9LizB8c"
      },
      "source": [
        "print('df_inner, Left Dataframe (Row/Col):', df_inner.shape)\n",
        "print('df4, Right Dataframe (Row/Col):', df4.shape)\n",
        "print('df_right2, Merged Dataframe (Row/Col):', df_right2.shape)"
      ],
      "execution_count": null,
      "outputs": []
    }
  ]
}