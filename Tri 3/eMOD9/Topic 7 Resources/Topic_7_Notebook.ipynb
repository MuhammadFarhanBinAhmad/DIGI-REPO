{
  "nbformat": 4,
  "nbformat_minor": 0,
  "metadata": {
    "colab": {
      "name": "Topic_7_Notebook.ipynb",
      "provenance": [],
      "collapsed_sections": []
    },
    "kernelspec": {
      "name": "python3",
      "display_name": "Python 3"
    },
    "language_info": {
      "name": "python"
    }
  },
  "cells": [
    {
      "cell_type": "markdown",
      "metadata": {
        "id": "yOZvKD1pQvja"
      },
      "source": [
        "# Welcome to Topic 7's Notebook!\n",
        "\n",
        "Use this notebook as you go through Topic 7's slides.\n"
      ]
    },
    {
      "cell_type": "markdown",
      "metadata": {
        "id": "bysXT1iqZbCw"
      },
      "source": [
        "Slide 9: **Importing the Pandas Library**"
      ]
    },
    {
      "cell_type": "code",
      "metadata": {
        "id": "16ms1quZQG8V"
      },
      "source": [
        "import pandas as pd"
      ],
      "execution_count": null,
      "outputs": []
    },
    {
      "cell_type": "markdown",
      "metadata": {
        "id": "iH6o5OKxZgaj"
      },
      "source": [
        "Slide 11: **Upload the downloaded files**\n",
        "( Students.csv, Students.xlsx, Students.json )"
      ]
    },
    {
      "cell_type": "code",
      "metadata": {
        "id": "WW40y-R6QfVO"
      },
      "source": [
        "from google.colab import files\n",
        "files.upload()"
      ],
      "execution_count": null,
      "outputs": []
    },
    {
      "cell_type": "markdown",
      "metadata": {
        "id": "7HTm8RqCZrMA"
      },
      "source": [
        "Slide 12: **Reading an Excel file**\n",
        "\n"
      ]
    },
    {
      "cell_type": "code",
      "metadata": {
        "id": "5FqbqZD9RzV6"
      },
      "source": [
        "# Assign the newly read data to 'df_students'\n",
        "df_students = pd.read_excel('Students.xlsx')\n",
        "# Display as a DataFrame\n",
        "df_students"
      ],
      "execution_count": null,
      "outputs": []
    },
    {
      "cell_type": "markdown",
      "metadata": {
        "id": "u4eDz6k8Ztta"
      },
      "source": [
        "Slide 13: **Reading a JSON file**\n",
        "\n"
      ]
    },
    {
      "cell_type": "code",
      "metadata": {
        "id": "xZzu6vpTS0J1"
      },
      "source": [
        "# Replaces 'df_students' with the newly read data\n",
        "df_students = pd.read_json('Students.json')\n",
        "# Display as a DataFrame\n",
        "df_students"
      ],
      "execution_count": null,
      "outputs": []
    },
    {
      "cell_type": "markdown",
      "metadata": {
        "id": "as0QodJAZmra"
      },
      "source": [
        "Slide 14: **Reading a CSV file**\n",
        "\n"
      ]
    },
    {
      "cell_type": "code",
      "metadata": {
        "id": "SWU43c7nQppk"
      },
      "source": [
        "# Replaces 'df_students' with the newly read data\n",
        "df_students = pd.read_csv('Students.csv')\n",
        "# Display as a DataFrame\n",
        "df_students"
      ],
      "execution_count": null,
      "outputs": []
    },
    {
      "cell_type": "markdown",
      "metadata": {
        "id": "Jq2usMvxU_tr"
      },
      "source": [
        "Slide 15: **Head()**"
      ]
    },
    {
      "cell_type": "code",
      "metadata": {
        "id": "kbYUyQnPU_RL"
      },
      "source": [
        "# For DataFrame 'df_students', return the first 5 records\n",
        "df_students.head()                                                              "
      ],
      "execution_count": null,
      "outputs": []
    },
    {
      "cell_type": "markdown",
      "metadata": {
        "id": "23yHc5W8VRBw"
      },
      "source": [
        "Slide 16: **Shape**"
      ]
    },
    {
      "cell_type": "code",
      "metadata": {
        "id": "n-9-YvIuVQUL"
      },
      "source": [
        "# For DataFrame 'df_students', count the number of Rows & Columns\n",
        "df_students.shape                                                               "
      ],
      "execution_count": null,
      "outputs": []
    },
    {
      "cell_type": "markdown",
      "metadata": {
        "id": "_e4BawAaWT3Q"
      },
      "source": [
        "Slide 17: **Describe()**"
      ]
    },
    {
      "cell_type": "code",
      "metadata": {
        "id": "CSwXFr0cWZF3"
      },
      "source": [
        "# For DataFrame 'df_students', list a summary of the DataFrame's values \n",
        "df_students.describe()                                                          "
      ],
      "execution_count": null,
      "outputs": []
    },
    {
      "cell_type": "markdown",
      "metadata": {
        "id": "WLN9Zdu-BJaa"
      },
      "source": [
        "Slide 18: **Describe(include='all')**"
      ]
    },
    {
      "cell_type": "code",
      "metadata": {
        "id": "kVhDkFK8yCpU"
      },
      "source": [
        "# For DataFrame 'df_students', list a summary of the DataFrame's values \n",
        "df_students.describe(include='all')     "
      ],
      "execution_count": null,
      "outputs": []
    },
    {
      "cell_type": "markdown",
      "metadata": {
        "id": "qCB4Fo_ZXg99"
      },
      "source": [
        "Slide 20: **Isnull()**"
      ]
    },
    {
      "cell_type": "code",
      "metadata": {
        "id": "v9ZgGvwsXd-1"
      },
      "source": [
        "# For DataFrame 'df_students', check if there are any null values. If True = NULL/NaN, If False = Not NULL/NaN\n",
        "df_students.isnull()                                                            "
      ],
      "execution_count": null,
      "outputs": []
    },
    {
      "cell_type": "markdown",
      "metadata": {
        "id": "r2w1r5AfXtjF"
      },
      "source": [
        "Slide 20: **columns**"
      ]
    },
    {
      "cell_type": "code",
      "metadata": {
        "id": "glE-hUEZX5Rr"
      },
      "source": [
        "# For DataFrame 'df_students', list all columns\n",
        "df_students.columns                                                             "
      ],
      "execution_count": null,
      "outputs": []
    },
    {
      "cell_type": "markdown",
      "metadata": {
        "id": "I-eb2hQEYaeg"
      },
      "source": [
        "Slide 21: **DF['column'].nunique()**"
      ]
    },
    {
      "cell_type": "code",
      "metadata": {
        "id": "mPYGvVEGYYmX"
      },
      "source": [
        "# For DataFrame 'df_students', count the number of unique values for column 'Student ID'\n",
        "df_students['Student ID'].nunique()                                             "
      ],
      "execution_count": null,
      "outputs": []
    },
    {
      "cell_type": "code",
      "metadata": {
        "id": "fs5X1K4S_cSL"
      },
      "source": [
        "# For DataFrame 'df_students', count the number of unique values for column 'Age'\n",
        "df_students['Age'].nunique()        "
      ],
      "execution_count": null,
      "outputs": []
    },
    {
      "cell_type": "markdown",
      "metadata": {
        "id": "-PP_2i3KaGha"
      },
      "source": [
        "Slide 22: **DF['column'].value_counts()**"
      ]
    },
    {
      "cell_type": "code",
      "metadata": {
        "id": "h9xmIiTqaK8E"
      },
      "source": [
        "# For DataFrame 'df_students', count the number of times a value is repeated for column 'Age'\n",
        "df_students['Age'].value_counts()                                               "
      ],
      "execution_count": null,
      "outputs": []
    },
    {
      "cell_type": "markdown",
      "metadata": {
        "id": "Dy8EVBMYY7m_"
      },
      "source": [
        "Slide 23: **DF['column'].min()**"
      ]
    },
    {
      "cell_type": "code",
      "metadata": {
        "id": "K6BblxQKY7Jn"
      },
      "source": [
        "# For DataFrame 'df_students', find the minimum value of column 'Age'\n",
        "df_students['Age'].min()                                                        "
      ],
      "execution_count": null,
      "outputs": []
    },
    {
      "cell_type": "markdown",
      "metadata": {
        "id": "wa-_YVXOZgTC"
      },
      "source": [
        "Slide 24: **DF['column'].max()**"
      ]
    },
    {
      "cell_type": "code",
      "metadata": {
        "id": "81luPUppZka_"
      },
      "source": [
        "# For DataFrame 'df_students', find the maximum value of column 'Age'\n",
        "df_students['Age'].max()                                                        "
      ],
      "execution_count": null,
      "outputs": []
    },
    {
      "cell_type": "markdown",
      "metadata": {
        "id": "0CdAAZPHZy0_"
      },
      "source": [
        "Slide 25: **DF['column'].mean()**"
      ]
    },
    {
      "cell_type": "code",
      "metadata": {
        "id": "SKZGJsJTZwL9"
      },
      "source": [
        "# For DataFrame 'df_students', find the mean/average value of column 'Age'\n",
        "df_students['Age'].mean()                                                       "
      ],
      "execution_count": null,
      "outputs": []
    },
    {
      "cell_type": "markdown",
      "metadata": {
        "id": "6LMfeF_2aJZj"
      },
      "source": [
        "Slide 26: **df.groupby['column'].mean()**"
      ]
    },
    {
      "cell_type": "code",
      "metadata": {
        "id": "40wOMNgeasTU"
      },
      "source": [
        "# For DataFrame 'df_students', finds the average of all numeric columns grouped by Age\n",
        "df_students.groupby('Age').mean()                                              "
      ],
      "execution_count": null,
      "outputs": []
    },
    {
      "cell_type": "markdown",
      "metadata": {
        "id": "eHO_0YvWdHV2"
      },
      "source": [
        "Slide 27: **df.groupby['column'].mean()['column'].sort_values()**"
      ]
    },
    {
      "cell_type": "code",
      "metadata": {
        "id": "SePrpFJwdIPM"
      },
      "source": [
        "# For DataFrame 'df_students', groupby the Age sorted to the corresponding Average PCI \n",
        "df_students.groupby('Age').mean()['PCI'].sort_values(ascending=False)           "
      ],
      "execution_count": null,
      "outputs": []
    },
    {
      "cell_type": "markdown",
      "metadata": {
        "id": "JP8del5meZAh"
      },
      "source": [
        "Slide 29: **df = df.drop_duplicates**"
      ]
    },
    {
      "cell_type": "code",
      "metadata": {
        "id": "WFRMXvzUB_vv"
      },
      "source": [
        "# Run this before .drop_duplicates() to see amount of rows/cols of the original data\n",
        "df_students.shape"
      ],
      "execution_count": null,
      "outputs": []
    },
    {
      "cell_type": "code",
      "metadata": {
        "id": "rGd78ONseYsB"
      },
      "source": [
        "# Drop duplicates found in DataFrame 'df_students'\n",
        "df_students = df_students.drop_duplicates() \n",
        "# Display the DataFrame and its values                                    \n",
        "df_students                                                                     "
      ],
      "execution_count": null,
      "outputs": []
    },
    {
      "cell_type": "code",
      "metadata": {
        "id": "pbbW-kRoCDIs"
      },
      "source": [
        "# Run this after .drop_duplicates to see the change in total records of the data\n",
        "df_students.shape"
      ],
      "execution_count": null,
      "outputs": []
    },
    {
      "cell_type": "markdown",
      "metadata": {
        "id": "nzG8a42FhL-l"
      },
      "source": [
        "Slide 31: **df['column'].fillna()**"
      ]
    },
    {
      "cell_type": "code",
      "metadata": {
        "id": "lj6hraOwfc4g"
      },
      "source": [
        "# For DataFrame 'df_students', fill NaN values found at column 'GPA' with 0, inplace: replace the values directly on the original DataFrame\n",
        "df_students['GPA'].fillna(0, inplace = True) \n",
        "# Display the DataFrame and its values                                   \n",
        "df_students                                                                     "
      ],
      "execution_count": null,
      "outputs": []
    },
    {
      "cell_type": "markdown",
      "metadata": {
        "id": "mVrSinVFV4v-"
      },
      "source": [
        "Slide 34: **Export an Excel file**\n",
        "\n"
      ]
    },
    {
      "cell_type": "code",
      "metadata": {
        "id": "24Lr9IGTV4qN"
      },
      "source": [
        "# Dataframe function to export as an Excel format (saved in runtime only)\n",
        "df_students.to_excel('Students_updated.xlsx')"
      ],
      "execution_count": null,
      "outputs": []
    },
    {
      "cell_type": "markdown",
      "metadata": {
        "id": "un50RmeMe5ro"
      },
      "source": [
        "Slide 35: **Export a JSON file**\n",
        "\n"
      ]
    },
    {
      "cell_type": "code",
      "metadata": {
        "id": "WYLaIDwsW1an"
      },
      "source": [
        "# Dataframe function to export as a JSON format (saved in runtime only)\n",
        "df_students.to_json('Students_updated.json')"
      ],
      "execution_count": null,
      "outputs": []
    },
    {
      "cell_type": "markdown",
      "metadata": {
        "id": "QSteK7U5e59G"
      },
      "source": [
        "Slide 36: **Export a CSV file**\n",
        "\n"
      ]
    },
    {
      "cell_type": "code",
      "metadata": {
        "id": "pX9FlcY2npRM"
      },
      "source": [
        "# Dataframe function to export as a CSV format (saved in runtime only)\n",
        "df_students.to_csv('Students_updated.csv')"
      ],
      "execution_count": null,
      "outputs": []
    }
  ]
}