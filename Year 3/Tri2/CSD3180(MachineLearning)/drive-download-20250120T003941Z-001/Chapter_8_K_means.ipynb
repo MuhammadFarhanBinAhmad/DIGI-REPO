{
 "cells": [
  {
   "cell_type": "markdown",
   "id": "bb9e093d",
   "metadata": {},
   "source": [
    "### Table of Content\n",
    "\n",
    "[1. KMeans Scikit-Learn](#km1) <br>\n",
    "\n",
    "[2. KMeans Implementation](#km2) <br>\n"
   ]
  },
  {
   "cell_type": "markdown",
   "id": "1f64f13a",
   "metadata": {},
   "source": [
    "## <a id='km1'></a> 1. KMeans Scikit-Learn"
   ]
  },
  {
   "cell_type": "code",
   "execution_count": 1,
   "id": "1995c93d-cf60-4db1-980c-01158569903d",
   "metadata": {},
   "outputs": [],
   "source": [
    "import os\n",
    "\n",
    "# optional: to avoid memory leak on \n",
    "# Windows with MKL when using KMeans\n",
    "os.environ[\"OMP_NUM_THREADS\"] = '1'\n",
    "\n",
    "from sklearn.cluster import KMeans\n",
    "import pandas as pd\n",
    "import matplotlib\n",
    "import matplotlib.pyplot as plt\n",
    "import numpy as np\n",
    "import pandas as pd"
   ]
  },
  {
   "cell_type": "code",
   "execution_count": 2,
   "id": "70096fbc-5117-4a20-934b-a111d8383753",
   "metadata": {},
   "outputs": [
    {
     "name": "stdout",
     "output_type": "stream",
     "text": [
      "   Math  Science\n",
      "0    40       45\n",
      "1    60       75\n",
      "2    65       70\n",
      "3    90       90\n",
      "4   100       95\n",
      "5    45       35 \n",
      "\n"
     ]
    }
   ],
   "source": [
    "data = np.array([[40,45],\n",
    "                 [60,75],\n",
    "                 [65,70],\n",
    "                 [90,90],\n",
    "                 [100,95],\n",
    "                 [45,35]])\n",
    "\n",
    "col_names = [\"Math\", \"Science\"]\n",
    "data = pd.DataFrame(data, columns=col_names)\n",
    "print(data, \"\\n\")"
   ]
  },
  {
   "cell_type": "code",
   "execution_count": 3,
   "id": "330f0915-0c12-4134-82ed-6dd1ad55a764",
   "metadata": {},
   "outputs": [
    {
     "data": {
      "text/html": [
       "<style>#sk-container-id-1 {color: black;background-color: white;}#sk-container-id-1 pre{padding: 0;}#sk-container-id-1 div.sk-toggleable {background-color: white;}#sk-container-id-1 label.sk-toggleable__label {cursor: pointer;display: block;width: 100%;margin-bottom: 0;padding: 0.3em;box-sizing: border-box;text-align: center;}#sk-container-id-1 label.sk-toggleable__label-arrow:before {content: \"▸\";float: left;margin-right: 0.25em;color: #696969;}#sk-container-id-1 label.sk-toggleable__label-arrow:hover:before {color: black;}#sk-container-id-1 div.sk-estimator:hover label.sk-toggleable__label-arrow:before {color: black;}#sk-container-id-1 div.sk-toggleable__content {max-height: 0;max-width: 0;overflow: hidden;text-align: left;background-color: #f0f8ff;}#sk-container-id-1 div.sk-toggleable__content pre {margin: 0.2em;color: black;border-radius: 0.25em;background-color: #f0f8ff;}#sk-container-id-1 input.sk-toggleable__control:checked~div.sk-toggleable__content {max-height: 200px;max-width: 100%;overflow: auto;}#sk-container-id-1 input.sk-toggleable__control:checked~label.sk-toggleable__label-arrow:before {content: \"▾\";}#sk-container-id-1 div.sk-estimator input.sk-toggleable__control:checked~label.sk-toggleable__label {background-color: #d4ebff;}#sk-container-id-1 div.sk-label input.sk-toggleable__control:checked~label.sk-toggleable__label {background-color: #d4ebff;}#sk-container-id-1 input.sk-hidden--visually {border: 0;clip: rect(1px 1px 1px 1px);clip: rect(1px, 1px, 1px, 1px);height: 1px;margin: -1px;overflow: hidden;padding: 0;position: absolute;width: 1px;}#sk-container-id-1 div.sk-estimator {font-family: monospace;background-color: #f0f8ff;border: 1px dotted black;border-radius: 0.25em;box-sizing: border-box;margin-bottom: 0.5em;}#sk-container-id-1 div.sk-estimator:hover {background-color: #d4ebff;}#sk-container-id-1 div.sk-parallel-item::after {content: \"\";width: 100%;border-bottom: 1px solid gray;flex-grow: 1;}#sk-container-id-1 div.sk-label:hover label.sk-toggleable__label {background-color: #d4ebff;}#sk-container-id-1 div.sk-serial::before {content: \"\";position: absolute;border-left: 1px solid gray;box-sizing: border-box;top: 0;bottom: 0;left: 50%;z-index: 0;}#sk-container-id-1 div.sk-serial {display: flex;flex-direction: column;align-items: center;background-color: white;padding-right: 0.2em;padding-left: 0.2em;position: relative;}#sk-container-id-1 div.sk-item {position: relative;z-index: 1;}#sk-container-id-1 div.sk-parallel {display: flex;align-items: stretch;justify-content: center;background-color: white;position: relative;}#sk-container-id-1 div.sk-item::before, #sk-container-id-1 div.sk-parallel-item::before {content: \"\";position: absolute;border-left: 1px solid gray;box-sizing: border-box;top: 0;bottom: 0;left: 50%;z-index: -1;}#sk-container-id-1 div.sk-parallel-item {display: flex;flex-direction: column;z-index: 1;position: relative;background-color: white;}#sk-container-id-1 div.sk-parallel-item:first-child::after {align-self: flex-end;width: 50%;}#sk-container-id-1 div.sk-parallel-item:last-child::after {align-self: flex-start;width: 50%;}#sk-container-id-1 div.sk-parallel-item:only-child::after {width: 0;}#sk-container-id-1 div.sk-dashed-wrapped {border: 1px dashed gray;margin: 0 0.4em 0.5em 0.4em;box-sizing: border-box;padding-bottom: 0.4em;background-color: white;}#sk-container-id-1 div.sk-label label {font-family: monospace;font-weight: bold;display: inline-block;line-height: 1.2em;}#sk-container-id-1 div.sk-label-container {text-align: center;}#sk-container-id-1 div.sk-container {/* jupyter's `normalize.less` sets `[hidden] { display: none; }` but bootstrap.min.css set `[hidden] { display: none !important; }` so we also need the `!important` here to be able to override the default hidden behavior on the sphinx rendered scikit-learn.org. See: https://github.com/scikit-learn/scikit-learn/issues/21755 */display: inline-block !important;position: relative;}#sk-container-id-1 div.sk-text-repr-fallback {display: none;}</style><div id=\"sk-container-id-1\" class=\"sk-top-container\"><div class=\"sk-text-repr-fallback\"><pre>KMeans(n_clusters=3, random_state=0)</pre><b>In a Jupyter environment, please rerun this cell to show the HTML representation or trust the notebook. <br />On GitHub, the HTML representation is unable to render, please try loading this page with nbviewer.org.</b></div><div class=\"sk-container\" hidden><div class=\"sk-item\"><div class=\"sk-estimator sk-toggleable\"><input class=\"sk-toggleable__control sk-hidden--visually\" id=\"sk-estimator-id-1\" type=\"checkbox\" checked><label for=\"sk-estimator-id-1\" class=\"sk-toggleable__label sk-toggleable__label-arrow\">KMeans</label><div class=\"sk-toggleable__content\"><pre>KMeans(n_clusters=3, random_state=0)</pre></div></div></div></div></div>"
      ],
      "text/plain": [
       "KMeans(n_clusters=3, random_state=0)"
      ]
     },
     "execution_count": 3,
     "metadata": {},
     "output_type": "execute_result"
    }
   ],
   "source": [
    "kmeans = KMeans(n_clusters=3, random_state=0)\n",
    "kmeans.fit(data)"
   ]
  },
  {
   "cell_type": "code",
   "execution_count": 4,
   "id": "e915291b-0e0d-4f51-bcaf-dd24a956b1e5",
   "metadata": {},
   "outputs": [
    {
     "data": {
      "text/plain": [
       "array([[95. , 92.5],\n",
       "       [62.5, 72.5],\n",
       "       [42.5, 40. ]])"
      ]
     },
     "execution_count": 4,
     "metadata": {},
     "output_type": "execute_result"
    }
   ],
   "source": [
    "kmeans.cluster_centers_"
   ]
  },
  {
   "cell_type": "code",
   "execution_count": 5,
   "id": "50a7387a-357f-448b-b7ed-4562557c10e4",
   "metadata": {},
   "outputs": [
    {
     "data": {
      "text/plain": [
       "150.0"
      ]
     },
     "execution_count": 5,
     "metadata": {},
     "output_type": "execute_result"
    }
   ],
   "source": [
    "kmeans.inertia_"
   ]
  },
  {
   "cell_type": "code",
   "execution_count": 6,
   "id": "e7c55387-fd4e-4797-8d91-bd53fbaf6059",
   "metadata": {},
   "outputs": [
    {
     "data": {
      "image/png": "[encoded data removed]",
      "text/plain": [
       "<Figure size 576x432 with 1 Axes>"
      ]
     },
     "metadata": {
      "needs_background": "light"
     },
     "output_type": "display_data"
    }
   ],
   "source": [
    "plt.figure(figsize=(8, 6))\n",
    "labels = kmeans.labels_\n",
    "colors = ['red','green','blue']\n",
    "plt.scatter(data['Math'], data['Science'], c=labels, \n",
    "            cmap=matplotlib.colors.ListedColormap(colors))\n",
    "plt.xlabel('Math Marks', fontsize=16)\n",
    "plt.ylabel('Science Marks', fontsize=16)\n",
    "# plt.savefig(\"kmeans_small_dataset.jpg\", dpi=300)\n",
    "plt.show()"
   ]
  },
  {
   "cell_type": "code",
   "execution_count": 7,
   "id": "2e791f6d-7111-49c5-98f0-85373945fff4",
   "metadata": {},
   "outputs": [
    {
     "data": {
      "image/png": "[encoded data removed]",
      "text/plain": [
       "<Figure size 576x432 with 1 Axes>"
      ]
     },
     "metadata": {
      "needs_background": "light"
     },
     "output_type": "display_data"
    }
   ],
   "source": [
    "# within cluster sum of squares (WCSS)\n",
    "# to help decide optimal no. of clusters\n",
    "wcss=[]\n",
    "for i in range(1,7):\n",
    "    kmeans = KMeans(n_clusters=i, random_state=0)\n",
    "    kmeans.fit(data)\n",
    "    wcss.append(kmeans.inertia_)\n",
    "\n",
    "plt.figure(figsize=(8, 6))\n",
    "plt.plot(range(1,7), wcss, marker='o', c='black')\n",
    "plt.xlabel('Number of clusters', fontsize=16)\n",
    "plt.ylabel('WCSS', fontsize=16) \n",
    "# plt.savefig(\"elbow_kmeans.jpg\", dpi=300)\n",
    "plt.show()"
   ]
  },
  {
   "cell_type": "markdown",
   "id": "a6f3ef7c",
   "metadata": {},
   "source": [
    "<br>WCSS Formula:  \n",
    "\n",
    "$$\n",
    "WCSS = \\sum_{P_i \\in \\text{Cluster 1}} \\text{distance}(P_i, C_1)^2 + \\sum_{P_i \\in \\text{Cluster 2}} \\text{distance}(P_i, C_2)^2 + \\sum_{P_i \\in \\text{Cluster 3}} \\text{distance}(P_i, C_3)^2 + \\ldots\n",
    "$$\n"
   ]
  },
  {
   "cell_type": "markdown",
   "id": "d3636836",
   "metadata": {},
   "source": [
    "## <a id='km2'></a> 2. KMeans Implementation"
   ]
  },
  {
   "cell_type": "code",
   "execution_count": 8,
   "id": "92ec50c9",
   "metadata": {},
   "outputs": [],
   "source": [
    "import numpy as np\n",
    "import pandas as pd\n",
    "from scipy.spatial import distance\n",
    "\n",
    "class KMeansCluster:\n",
    "    '''\n",
    "    KMeans clustering.\n",
    "    \n",
    "    k: int, the number of centroids, default=2\n",
    "    max_iters: int, the maximum number of iterations, default=300\n",
    "    '''\n",
    "    def __init__(self, k=2, max_iters=300):\n",
    "        self.k = k\n",
    "        self.max_iters = max_iters\n",
    "        self.centroids = None\n",
    "        \n",
    "    def assign_clusters(self, X):\n",
    "        \"\"\"\n",
    "        Calculate distances from each sample to the k centroids;\n",
    "        and then, assign each sample to the closest centroid\n",
    "        \n",
    "        Inputs: X - numpy.ndarray, the feature values\n",
    "        Outputs: assignments - numpy.ndarray, the assigned centroids for all samples\n",
    "        \"\"\"\n",
    "        num_points = X.shape[0]\n",
    "        num_centroids = self.centroids.shape[0]\n",
    "        distances = np.zeros((num_points, num_centroids))\n",
    "        \n",
    "        for i in range(num_points):\n",
    "            for j in range(num_centroids):\n",
    "                distances[i][j] = distance.euclidean(X[i], self.centroids[j])\n",
    "        \n",
    "        #print(distances)\n",
    "        #a 1-D array for the which sample got assigned to which centroid\n",
    "        assignments = np.argmin(distances, axis=1)\n",
    "        return assignments\n",
    "\n",
    "    def update_centroids(self, X, assignments):\n",
    "        \"\"\"\n",
    "        Update the new centroids (i.e., mean of cluster samples values)\n",
    "        \n",
    "        Inputs: X - numpy.ndarray, the feature values\n",
    "                assignments - numpy.ndarray, the assigned centroids for all samples\n",
    "        Outputs: new_centroids - numpy.ndarray, the updated new centroids\n",
    "        \"\"\"\n",
    "        num_features = X.shape[1]\n",
    "        new_centroids = np.zeros((self.k, num_features))\n",
    "        for i in range(self.k):\n",
    "            assigned_data = X[assignments == i]\n",
    "            if len(assigned_data) > 0:\n",
    "                for j in range(num_features):\n",
    "                    new_centroids[i, j] = np.mean(assigned_data[:, j])\n",
    "        return new_centroids\n",
    "\n",
    "    def calculate_wcss(self, X):\n",
    "        '''\n",
    "        Calculate the Within-Cluster Sum of Squares (WCSS) value\n",
    "        \n",
    "        Inputs: X - numpy.ndarray, the feature values\n",
    "        Outputs: total_wcss - float, the calcualte WCSS value\n",
    "        '''\n",
    "        total_wcss = 0\n",
    "        for i in range(self.k):\n",
    "            cluster_data = X[self.assignments == i]\n",
    "            if len(cluster_data) > 0:\n",
    "                distances = np.sum((cluster_data - self.centroids[i])**2)\n",
    "                total_wcss += distances\n",
    "        return total_wcss\n",
    "\n",
    "    \n",
    "    def fit(self, X):\n",
    "        '''\n",
    "        Train a KMeans model, find the final assigned centroids, and compute WCSS\n",
    "        \n",
    "        Inputs: X - numpy.ndarray, the feature values\n",
    "        Outputs: None\n",
    "        '''\n",
    "        # Step 1 in the book\n",
    "        np.random.seed(0)\n",
    "        indexes = np.random.choice(X.shape[0], self.k, replace=False)\n",
    "        # indexes = np.array([5, 1, 2])\n",
    "        self.centroids = X[indexes]\n",
    "        \n",
    "        for _ in range(self.max_iters):\n",
    "            assignments = self.assign_clusters(X) # Steps 2 & 3 in the book\n",
    "            new_centroids = self.update_centroids(X, assignments) # Steps 4 & 5 in the book\n",
    "            \n",
    "            # Step 6: stopping criterion, when the k centroids no longer move\n",
    "            if np.all(new_centroids == self.centroids):\n",
    "                break\n",
    "                \n",
    "            self.centroids = new_centroids # final centroids\n",
    "        \n",
    "        self.assignments = assignments\n",
    "        self.total_wcss = self.calculate_wcss(X)\n",
    "\n",
    "    def predict(self, X):\n",
    "        \"\"\"\n",
    "        Predict the nearest centroid for each sample in X based on the found centroids;\n",
    "        essentially the same as the assign_clusters method above.\n",
    "\n",
    "        Inputs:\n",
    "        X - numpy.ndarray, the new sample(s) to be clustered\n",
    "\n",
    "        Outputs:\n",
    "        - numpy.ndarray, the index of the closest centroid for each sample\n",
    "        \"\"\"\n",
    "        return self.assign_clusters(X)"
   ]
  },
  {
   "cell_type": "code",
   "execution_count": 9,
   "id": "b2f0ca13",
   "metadata": {},
   "outputs": [
    {
     "name": "stdout",
     "output_type": "stream",
     "text": [
      "   Math  Science\n",
      "0    40       45\n",
      "1    60       75\n",
      "2    65       70\n",
      "3    90       90\n",
      "4   100       95\n",
      "5    45       35 \n",
      "\n"
     ]
    }
   ],
   "source": [
    "data = np.array([[40,45],\n",
    "                 [60,75],\n",
    "                 [65,70],\n",
    "                 [90,90],\n",
    "                 [100,95],\n",
    "                 [45,35]])\n",
    "\n",
    "col_names = [\"Math\", \"Science\"]\n",
    "print(pd.DataFrame(data, columns=col_names), \"\\n\")"
   ]
  },
  {
   "cell_type": "code",
   "execution_count": 10,
   "id": "b48f8c21-7db2-4631-9d37-269efe14fd56",
   "metadata": {},
   "outputs": [
    {
     "name": "stdout",
     "output_type": "stream",
     "text": [
      "Centroids:\n",
      " [[42.5 40. ]\n",
      " [62.5 72.5]\n",
      " [95.  92.5]]\n",
      "Assignments: [0 1 1 2 2 0]\n",
      "WCSS: 150.0\n"
     ]
    }
   ],
   "source": [
    "kmeans_c = KMeansCluster(k=3)\n",
    "kmeans_c.fit(data)\n",
    "print(\"Centroids:\\n\", kmeans_c.centroids)\n",
    "print(\"Assignments:\", kmeans_c.assignments)\n",
    "print(\"WCSS:\", kmeans_c.total_wcss)"
   ]
  },
  {
   "cell_type": "code",
   "execution_count": 11,
   "id": "f7ef3339",
   "metadata": {},
   "outputs": [
    {
     "data": {
      "text/plain": [
       "array([2], dtype=int64)"
      ]
     },
     "execution_count": 11,
     "metadata": {},
     "output_type": "execute_result"
    }
   ],
   "source": [
    "kmeans_c.predict(np.array([[100,99]]))"
   ]
  }
 ],
 "metadata": {
  "kernelspec": {
   "display_name": "Python 3 (ipykernel)",
   "language": "python",
   "name": "python3"
  },
  "language_info": {
   "codemirror_mode": {
    "name": "ipython",
    "version": 3
   },
   "file_extension": ".py",
   "mimetype": "text/x-python",
   "name": "python",
   "nbconvert_exporter": "python",
   "pygments_lexer": "ipython3",
   "version": "3.9.7"
  }
 },
 "nbformat": 4,
 "nbformat_minor": 5
}
