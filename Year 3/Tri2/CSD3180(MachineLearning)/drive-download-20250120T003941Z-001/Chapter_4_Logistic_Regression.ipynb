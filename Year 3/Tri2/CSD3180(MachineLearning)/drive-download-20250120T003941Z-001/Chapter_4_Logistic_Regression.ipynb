{
 "cells": [
  {
   "cell_type": "markdown",
   "metadata": {
    "tags": []
   },
   "source": [
    "### Table of Content\n",
    "\n",
    "[1. Logistic Regression Codes](#lgr1) <br>\n",
    "\n",
    "[2. Comparison with Scikit-Learn](#lgr2) <br>\n"
   ]
  },
  {
   "cell_type": "markdown",
   "metadata": {},
   "source": [
    "## <a id='lgr1'></a> 1. Logistic Regression Codes"
   ]
  },
  {
   "cell_type": "code",
   "execution_count": 1,
   "metadata": {},
   "outputs": [],
   "source": [
    "import pandas as pd\n",
    "import numpy as np"
   ]
  },
  {
   "cell_type": "code",
   "execution_count": 2,
   "metadata": {},
   "outputs": [],
   "source": [
    "def sigmoid_func(z):\n",
    "    \"\"\"\n",
    "    The implementaion of sigmoid function\n",
    "    Inputs: z - numpy.ndarray, the intermediate linear results\n",
    "    Outputs: y_hat - numpy.ndarray, the mapped probaility by sigmoid\n",
    "    \"\"\"\n",
    "    y_hat = 1/(1 + np.exp(-z))\n",
    "    return y_hat\n",
    "\n",
    "def y_hat_calc(X, b, W):\n",
    "    \"\"\"\n",
    "    Calculate the predicted outputs, y_hat\n",
    "    Inputs: X - numpy.ndarray, the input feature values\n",
    "            b - float/int, bias\n",
    "            W - numpy.ndarray, weights of features\n",
    "    Outputs: y_hat.T - numpy.ndarray, the transposed predicted probaility outputs \n",
    "    \"\"\"\n",
    "    z = np.dot(W.T, X) + b\n",
    "    y_hat = sigmoid_func(z)\n",
    "    return y_hat.T\n",
    "    \n",
    "def cross_entropy_loss(Y, y_hat):\n",
    "    \"\"\"\n",
    "    Find the cross-entropy loss between true outputs and predicted outputs\n",
    "    Inputs: Y - numpy.ndarray, the true output values\n",
    "            y_hat - numpy.ndarray, the predicted output values\n",
    "    Outputs: L - numpy.ndarray, the cross-entropy loss\n",
    "    \"\"\"\n",
    "    L = - np.sum( np.dot(Y.T, np.log(y_hat)) + np.dot((1 - Y).T, np.log(1 - y_hat)) ) / Y.shape[0]\n",
    "    return L"
   ]
  },
  {
   "cell_type": "code",
   "execution_count": 3,
   "metadata": {},
   "outputs": [],
   "source": [
    "def predict_class(X, b, W):\n",
    "    '''\n",
    "    Calculate the predicted class based on default threshold 0.5\n",
    "    Inputs: X - numpy.ndarray, the input feature values\n",
    "            b - float/int, bias\n",
    "            W - numpy.ndarray, weights of features\n",
    "    Outputs: numpy.ndarray, the predicted class, 1 or 0\n",
    "    '''\n",
    "    return np.where(y_hat_calc(X, b, W) >= 0.5, 1, 0)\n",
    "\n",
    "def predict_accuracy(Y, X, b, W):\n",
    "    '''\n",
    "    Calculate the accuracy between true and predicted outputs\n",
    "    Inputs: Y - numpy.ndarray, the true output values\n",
    "            X - numpy.ndarray, the input feature values\n",
    "            b - float/int, bias\n",
    "            W - numpy.ndarray, weights of features\n",
    "    Outputs: float, in range of [0.0, 1.0]\n",
    "    '''\n",
    "    return np.sum(Y == predict_class(X, b, W)) / Y.shape[0]"
   ]
  },
  {
   "cell_type": "code",
   "execution_count": 4,
   "metadata": {},
   "outputs": [],
   "source": [
    "def update_bias_weights(X, Y, y_hat, b, W, learning_rate):\n",
    "    \"\"\"\n",
    "    Update the bias and weights based on Gradient Descent \n",
    "    Inputs: X - numpy.ndarray, the input feature values\n",
    "            Y - numpy.ndarray, the true output values\n",
    "            y_hat - numpy.ndarray, the predicted output values\n",
    "            b - float/int, bias\n",
    "            W - numpy.ndarray, weights of features\n",
    "            learning_rate - float, the learning rate used in Gradient Descent\n",
    "    Outputs: (b, W) - tuple, the updated bias and weights\n",
    "    \"\"\"\n",
    "    dL_db = np.sum(y_hat - Y) / X.shape[1]\n",
    "    dL_dW = np.dot(X, (y_hat-Y)) / X.shape[1] \n",
    "    \n",
    "    b = b - dL_db * learning_rate\n",
    "    W = W - dL_dW * learning_rate\n",
    "    \n",
    "    return (b, W)"
   ]
  },
  {
   "cell_type": "code",
   "execution_count": 5,
   "metadata": {},
   "outputs": [],
   "source": [
    "def train(X, Y, b, W, learning_rate, learning_iterations):\n",
    "    \"\"\"\n",
    "    Train logistic regression model for the specified iterations\n",
    "    Inputs: X - numpy.ndarray, the input feature values\n",
    "            Y - numpy.ndarray, the true output values\n",
    "            b - float/int, bias\n",
    "            W - numpy.ndarray, weights of features\n",
    "            learning_rate - float, the learning rate used in Gradient Descent\n",
    "            learning_iterations - int, the number of times of training\n",
    "    Outputs: (loss_history, b, W) - tuple, return the loss_history, and \n",
    "                                            the final bias and weights\n",
    "    \"\"\"\n",
    "    loss_history = []\n",
    "    for i in range(learning_iterations):\n",
    "        y_hat = y_hat_calc(X, b, W)\n",
    "        \n",
    "        b, W = update_bias_weights(X, Y, y_hat, b, W, learning_rate)\n",
    "        \n",
    "        # find loss after the ith iteration of updating bias and weights\n",
    "        L = cross_entropy_loss(Y, y_hat_calc(X, b, W))\n",
    "        loss_history.append(L)\n",
    "        \n",
    "        if i < 5 or i >= learning_iterations-5:\n",
    "            print (\"iter={:d} \\t b={:.5f} \\t W1={:.5f} \\t W2={:.5f} \\t loss={}\".format(i+1, b, W[0][0], W[1][0], L))\n",
    "\n",
    "    return (loss_history, b, W)"
   ]
  },
  {
   "cell_type": "code",
   "execution_count": 6,
   "metadata": {},
   "outputs": [],
   "source": [
    "def max_min_norm(X):\n",
    "    \"\"\"\n",
    "    Normalize dataset by using the Max-min normalization technique\n",
    "    Inputs: X - numpy.ndarray, the dataset for normalization\n",
    "    Outputs: (X_norm, np.array(max_min_vals)) - tuple, return the normalized dataset, \n",
    "                                            and the max and min values of each feature\n",
    "    \"\"\"\n",
    "    X_norm = X.copy().astype(float)\n",
    "    max_min_vals = []\n",
    "    for col in range(0, X_norm.shape[1]):\n",
    "        X_max = X_norm[:, col].max()\n",
    "        X_min = X_norm[:, col].min()\n",
    "        X_range = X_max - X_min\n",
    "        X_norm[:, col] = (X_norm[:, col] - X_min) / X_range\n",
    "        max_min_vals.append({\"X_max\":X_max, \"X_min\":X_min, \"X_range\":X_range})\n",
    "    return (X_norm, np.array(max_min_vals))"
   ]
  },
  {
   "cell_type": "code",
   "execution_count": 7,
   "metadata": {},
   "outputs": [
    {
     "name": "stdout",
     "output_type": "stream",
     "text": [
      "   size_sqft  num_bedrooms  is_easy_sell\n",
      "0       1600             5             1\n",
      "1       1200             4             1\n",
      "2        740             2             0 \n",
      "\n",
      "iter=1 \t b=0.01667 \t W1=0.02558 \t W2=0.02778 \t loss=0.6764246196944534\n",
      "iter=2 \t b=0.03220 \t W1=0.05036 \t W2=0.05470 \t loss=0.6609103694374685\n",
      "iter=3 \t b=0.04666 \t W1=0.07438 \t W2=0.08081 \t loss=0.6465026917750528\n",
      "iter=4 \t b=0.06010 \t W1=0.09766 \t W2=0.10613 \t loss=0.6331070942469185\n",
      "iter=5 \t b=0.07256 \t W1=0.12024 \t W2=0.13071 \t loss=0.6206362623737394\n",
      "iter=499996 \t b=-8.40173 \t W1=12.69092 \t W2=15.49013 \t loss=0.00012961536388369103\n",
      "iter=499997 \t b=-8.40174 \t W1=12.69092 \t W2=15.49013 \t loss=0.00012961510448407314\n",
      "iter=499998 \t b=-8.40174 \t W1=12.69092 \t W2=15.49013 \t loss=0.0001296148450854918\n",
      "iter=499999 \t b=-8.40174 \t W1=12.69093 \t W2=15.49014 \t loss=0.00012961458568794696\n",
      "iter=500000 \t b=-8.40174 \t W1=12.69093 \t W2=15.49014 \t loss=0.00012961432629147565\n"
     ]
    }
   ],
   "source": [
    "# The small dataset\n",
    "data = np.array([[1600,5,1],\n",
    "                 [1200,4,1],\n",
    "                 [740,2,0]])\n",
    "col_names = ['size_sqft', 'num_bedrooms', 'is_easy_sell']\n",
    "print(pd.DataFrame(data, columns=col_names), \"\\n\")\n",
    "\n",
    "X = data[:, :-1] # all rows, all columns except the last column\n",
    "Y = data[:, -1]  # all rows, last column only\n",
    "\n",
    "X, max_min_vals = max_min_norm(X) # normalize the input features\n",
    "X = X.T\n",
    "Y = Y.reshape(-1,1)\n",
    "\n",
    "# Initialize bias and weights\n",
    "initial_b = 0\n",
    "initial_W1 = 0\n",
    "initial_W2 = 0\n",
    "\n",
    "# Set learing rate and iterations\n",
    "learning_rate = 0.1\n",
    "learning_iterations = 500000\n",
    "\n",
    "# Start the training of logistic regression model\n",
    "loss_history, b, W = train(X, Y, initial_b, np.array([[initial_W1],[initial_W2]]), learning_rate, learning_iterations)"
   ]
  },
  {
   "cell_type": "code",
   "execution_count": 8,
   "metadata": {},
   "outputs": [
    {
     "name": "stdout",
     "output_type": "stream",
     "text": [
      "accuracy for training dataset: 1.0\n"
     ]
    }
   ],
   "source": [
    "print(\"accuracy for training dataset:\", predict_accuracy(Y, X, b, W))"
   ]
  },
  {
   "cell_type": "code",
   "execution_count": 9,
   "metadata": {},
   "outputs": [
    {
     "name": "stdout",
     "output_type": "stream",
     "text": [
      "training dataset, probability of belonging to class 1:\n",
      " [[1.000e+00]\n",
      " [9.998e-01]\n",
      " [2.000e-04]]\n"
     ]
    }
   ],
   "source": [
    "print(\"training dataset, probability of belonging to class 1:\\n\",\n",
    "       np.round(y_hat_calc(X, b, W),4))"
   ]
  },
  {
   "cell_type": "code",
   "execution_count": 10,
   "metadata": {},
   "outputs": [
    {
     "name": "stdout",
     "output_type": "stream",
     "text": [
      "training dataset, predicted class:\n",
      " [[1]\n",
      " [1]\n",
      " [0]]\n"
     ]
    }
   ],
   "source": [
    "print(\"training dataset, predicted class:\\n\",\n",
    "       predict_class(X, b, W))"
   ]
  },
  {
   "cell_type": "code",
   "execution_count": 11,
   "metadata": {},
   "outputs": [
    {
     "name": "stdout",
     "output_type": "stream",
     "text": [
      "For the house with 1200 sqft and 3 bedrooms, predicted class: 1 (i.e., Yes, easy to sell)\n",
      "\n",
      ", and probability of belonging to class 1 is 0.97\n"
     ]
    }
   ],
   "source": [
    "new_data = np.array([[1200,3]], dtype = float)\n",
    "\n",
    "# Max-min normalization\n",
    "for col in range(0, new_data.shape[1]):\n",
    "    new_data[:, col] = ((new_data[:, col] \n",
    "                        - max_min_vals[col]['X_min']) \n",
    "                        / max_min_vals[col]['X_range'])\n",
    "\n",
    "new_data = new_data.T\n",
    "\n",
    "predicted_class = predict_class(new_data, b, W)\n",
    "\n",
    "print (\"For the house with 1200 sqft and 3 bedrooms, predicted class:\", \n",
    "       '1 (i.e., Yes, easy to sell)' if predicted_class[0][0] == 1 \n",
    "       else '0 (i.e., No, not easy to sell)')\n",
    "\n",
    "print (\"\\n, and probability of belonging to class 1 is\", \n",
    "       np.round(y_hat_calc(new_data, b, W)[0][0], 2))"
   ]
  },
  {
   "cell_type": "code",
   "execution_count": 12,
   "metadata": {},
   "outputs": [
    {
     "data": {
      "image/png": "[encoded data removed]",
      "text/plain": [
       "<Figure size 720x432 with 1 Axes>"
      ]
     },
     "metadata": {
      "needs_background": "light"
     },
     "output_type": "display_data"
    }
   ],
   "source": [
    "import matplotlib.pyplot as plt\n",
    "\n",
    "itr = list(range(0, learning_iterations))\n",
    "fig = plt.figure(figsize = (10, 6))\n",
    "plt.xlabel('Learning Iterations', fontsize=18)\n",
    "plt.ylabel('Cross Entropy Loss', fontsize=18)\n",
    "plt.yticks(fontsize=14)\n",
    "plt.xticks(fontsize=14)\n",
    "# plt.tick_params(axis='x', which='both', bottom=False, top=False, labelbottom=False)\n",
    "# plt.tick_params(axis='y', which='both', bottom=False, top=False, labelbottom=False)\n",
    "# plt.scatter(itr[0:100], cost_history[0:100], s=20)\n",
    "plt.plot(itr[:10000], loss_history[:10000], color='black')\n",
    "# plt.savefig('LGR_10000.jpg', dpi=600)\n",
    "plt.show()"
   ]
  },
  {
   "cell_type": "code",
   "execution_count": 13,
   "metadata": {},
   "outputs": [
    {
     "data": {
      "image/png": "[encoded data removed]",
      "text/plain": [
       "<Figure size 720x432 with 1 Axes>"
      ]
     },
     "metadata": {
      "needs_background": "light"
     },
     "output_type": "display_data"
    }
   ],
   "source": [
    "itr = list(range(0, learning_iterations))\n",
    "fig = plt.figure(figsize = (10, 6))\n",
    "plt.xlabel('Learning Iterations', fontsize=18)\n",
    "plt.ylabel('Cross Entropy Loss', fontsize=18)\n",
    "plt.yticks(fontsize=14)\n",
    "plt.xticks(fontsize=14)\n",
    "# plt.tick_params(axis='x', which='both', bottom=False, top=False, labelbottom=False)\n",
    "# plt.tick_params(axis='y', which='both', bottom=False, top=False, labelbottom=False)\n",
    "plt.plot(itr[:], loss_history[:], color='black')\n",
    "# plt.savefig('LGR_all.jpg', dpi=600)\n",
    "plt.show()"
   ]
  },
  {
   "cell_type": "markdown",
   "metadata": {},
   "source": [
    "## <a id='lgr2'></a> 2. Comparison with Scikit-Learn"
   ]
  },
  {
   "cell_type": "code",
   "execution_count": 14,
   "metadata": {},
   "outputs": [
    {
     "name": "stdout",
     "output_type": "stream",
     "text": [
      "accuracy for training dataset: 1.0\n"
     ]
    }
   ],
   "source": [
    "import numpy as np\n",
    "from sklearn.linear_model import LogisticRegression\n",
    "from sklearn.metrics import accuracy_score\n",
    "from sklearn.preprocessing import MinMaxScaler\n",
    "\n",
    "# The small dataset\n",
    "data = np.array([[1600,5,1],\n",
    "                 [1200,4,1],\n",
    "                 [740,2,0]])\n",
    "\n",
    "X = data[:, :-1] # all rows, all columns except the last column\n",
    "Y = data[:, -1]  # all rows, last column only\n",
    "\n",
    "scaler = MinMaxScaler()\n",
    "scaler.fit(X)\n",
    "X = scaler.transform(X) # update to Normalized X\n",
    "\n",
    "lgr = LogisticRegression(penalty='none', tol=1.5e-4).fit(X, Y)\n",
    "\n",
    "print(\"accuracy for training dataset:\", accuracy_score(Y, lgr.predict(X)))"
   ]
  },
  {
   "cell_type": "code",
   "execution_count": 15,
   "metadata": {},
   "outputs": [
    {
     "name": "stdout",
     "output_type": "stream",
     "text": [
      "training dataset, probabilities of belonging to class 1:\n",
      " [[1.000e+00]\n",
      " [9.998e-01]\n",
      " [2.000e-04]]\n"
     ]
    }
   ],
   "source": [
    "print(\"training dataset, probabilities of belonging to class 1:\\n\",\n",
    "       np.round(lgr.predict_proba(X)[:,1].reshape(-1,1), 4))"
   ]
  },
  {
   "cell_type": "code",
   "execution_count": 16,
   "metadata": {},
   "outputs": [
    {
     "name": "stdout",
     "output_type": "stream",
     "text": [
      "training dataset, predicted class:\n",
      " [[1]\n",
      " [1]\n",
      " [0]]\n"
     ]
    }
   ],
   "source": [
    "print(\"training dataset, predicted class:\\n\",\n",
    "       lgr.predict(X).reshape(-1,1))"
   ]
  },
  {
   "cell_type": "code",
   "execution_count": 17,
   "metadata": {},
   "outputs": [
    {
     "name": "stdout",
     "output_type": "stream",
     "text": [
      "For the house with 1200 sqft and 3 bedrooms, predicted class: 1 (i.e., Yes, easy to sell)\n",
      "\n",
      ", and probability of belonging to class 1 is 0.97\n"
     ]
    }
   ],
   "source": [
    "new_data = np.array([[1200,3]], dtype = float)\n",
    "new_data = scaler.transform(new_data)\n",
    "\n",
    "print (\"For the house with 1200 sqft and 3 bedrooms, predicted class:\", \n",
    "       '1 (i.e., Yes, easy to sell)' if lgr.predict(new_data)[0] == 1 \n",
    "       else '0 (i.e., No, not easy to sell)')\n",
    "\n",
    "print (\"\\n, and probability of belonging to class 1 is\", \n",
    "       np.round(lgr.predict_proba(new_data)[0][1], 2))"
   ]
  }
 ],
 "metadata": {
  "kernelspec": {
   "display_name": "Python 3 (ipykernel)",
   "language": "python",
   "name": "python3"
  },
  "language_info": {
   "codemirror_mode": {
    "name": "ipython",
    "version": 3
   },
   "file_extension": ".py",
   "mimetype": "text/x-python",
   "name": "python",
   "nbconvert_exporter": "python",
   "pygments_lexer": "ipython3",
   "version": "3.9.7"
  }
 },
 "nbformat": 4,
 "nbformat_minor": 4
}
